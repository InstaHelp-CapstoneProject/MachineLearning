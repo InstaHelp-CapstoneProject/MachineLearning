{
 "cells": [
  {
   "cell_type": "code",
   "execution_count": 43,
   "id": "b5208cb7-0353-41fd-b348-e23e0430047e",
   "metadata": {},
   "outputs": [],
   "source": [
    "import numpy as np\n",
    "import tensorflow as tf\n",
    "import tensorflow_io as tfio\n",
    "import matplotlib.pyplot as plt\n",
    "import pandas as pd\n",
    "import io\n",
    "import os\n",
    "import re\n",
    "import string\n",
    "from tqdm import tqdm\n",
    "from tensorflow.keras.models import Model\n",
    "from tensorflow.keras.layers import Layer\n",
    "from tensorflow.keras.layers import (\n",
    "  Embedding,Input,LSTM,Input,Conv2D,Softmax,Dropout,Dense,GRU,\n",
    "  MaxPooling2D,LayerNormalization,Reshape,BatchNormalization,Bidirectional)\n",
    "from tensorflow.keras.optimizers import Adam\n",
    "import warnings\n",
    "warnings.filterwarnings('ignore')"
   ]
  },
  {
   "cell_type": "code",
   "execution_count": 44,
   "id": "9b136723-a26e-4cb6-b74c-c6220fd33415",
   "metadata": {},
   "outputs": [
    {
     "name": "stdout",
     "output_type": "stream",
     "text": [
      "2.13.1\n"
     ]
    }
   ],
   "source": [
    "print(tf.__version__)"
   ]
  },
  {
   "cell_type": "code",
   "execution_count": 45,
   "id": "5e374241-8014-4f1d-b68b-368211dd0361",
   "metadata": {},
   "outputs": [
    {
     "data": {
      "text/html": [
       "<div>\n",
       "<style scoped>\n",
       "    .dataframe tbody tr th:only-of-type {\n",
       "        vertical-align: middle;\n",
       "    }\n",
       "\n",
       "    .dataframe tbody tr th {\n",
       "        vertical-align: top;\n",
       "    }\n",
       "\n",
       "    .dataframe thead th {\n",
       "        text-align: right;\n",
       "    }\n",
       "</style>\n",
       "<table border=\"1\" class=\"dataframe\">\n",
       "  <thead>\n",
       "    <tr style=\"text-align: right;\">\n",
       "      <th></th>\n",
       "      <th>path</th>\n",
       "      <th>sentence</th>\n",
       "    </tr>\n",
       "  </thead>\n",
       "  <tbody>\n",
       "    <tr>\n",
       "      <th>0</th>\n",
       "      <td>common_voice_id_39599471.mp3</td>\n",
       "      <td>dia tidak sepenuhnya mempercayaiku</td>\n",
       "    </tr>\n",
       "    <tr>\n",
       "      <th>1</th>\n",
       "      <td>common_voice_id_32165882.mp3</td>\n",
       "      <td>aku juga tidak mengerti</td>\n",
       "    </tr>\n",
       "    <tr>\n",
       "      <th>2</th>\n",
       "      <td>common_voice_id_27657418.mp3</td>\n",
       "      <td>berharap kau di sini</td>\n",
       "    </tr>\n",
       "    <tr>\n",
       "      <th>3</th>\n",
       "      <td>common_voice_id_23033570.mp3</td>\n",
       "      <td>maha suci allah</td>\n",
       "    </tr>\n",
       "    <tr>\n",
       "      <th>4</th>\n",
       "      <td>common_voice_id_40088845.mp3</td>\n",
       "      <td>pada akhirnya dia memilih anak kucing yang sat...</td>\n",
       "    </tr>\n",
       "  </tbody>\n",
       "</table>\n",
       "</div>"
      ],
      "text/plain": [
       "                           path  \\\n",
       "0  common_voice_id_39599471.mp3   \n",
       "1  common_voice_id_32165882.mp3   \n",
       "2  common_voice_id_27657418.mp3   \n",
       "3  common_voice_id_23033570.mp3   \n",
       "4  common_voice_id_40088845.mp3   \n",
       "\n",
       "                                            sentence  \n",
       "0                 dia tidak sepenuhnya mempercayaiku  \n",
       "1                            aku juga tidak mengerti  \n",
       "2                               berharap kau di sini  \n",
       "3                                    maha suci allah  \n",
       "4  pada akhirnya dia memilih anak kucing yang sat...  "
      ]
     },
     "execution_count": 45,
     "metadata": {},
     "output_type": "execute_result"
    }
   ],
   "source": [
    "transcripts = pd.read_csv('Dataset/data.csv')\n",
    "\n",
    "transcripts.head()"
   ]
  },
  {
   "cell_type": "code",
   "execution_count": 51,
   "id": "aab5e227-91f0-4d45-93aa-4bbfc1f1c6e4",
   "metadata": {},
   "outputs": [
    {
     "name": "stderr",
     "output_type": "stream",
     "text": [
      "2024-11-22 04:28:00.664046: W tensorflow/core/framework/op_kernel.cc:1828] OP_REQUIRES failed at whole_file_read_ops.cc:116 : NOT_FOUND: Dataset/clips/common_voice_id_39599471.mp3; No such file or directory\n"
     ]
    },
    {
     "ename": "NotFoundError",
     "evalue": "{{function_node __wrapped__ReadFile_device_/job:localhost/replica:0/task:0/device:CPU:0}} Dataset/clips/common_voice_id_39599471.mp3; No such file or directory [Op:ReadFile]",
     "output_type": "error",
     "traceback": [
      "\u001b[0;31m---------------------------------------------------------------------------\u001b[0m",
      "\u001b[0;31mNotFoundError\u001b[0m                             Traceback (most recent call last)",
      "Cell \u001b[0;32mIn[51], line 13\u001b[0m\n\u001b[1;32m      9\u001b[0m     audio_tensor \u001b[38;5;241m=\u001b[39m tfio\u001b[38;5;241m.\u001b[39maudio\u001b[38;5;241m.\u001b[39mdecode_mp3(audio_binary)\n\u001b[1;32m     11\u001b[0m     \u001b[38;5;28;01mreturn\u001b[39;00m audio_tensor\n\u001b[0;32m---> 13\u001b[0m \u001b[38;5;28mprint\u001b[39m(\u001b[43mload_audio\u001b[49m\u001b[43m(\u001b[49m\u001b[43m)\u001b[49m)\n",
      "Cell \u001b[0;32mIn[51], line 6\u001b[0m, in \u001b[0;36mload_audio\u001b[0;34m()\u001b[0m\n\u001b[1;32m      4\u001b[0m \u001b[38;5;28;01mdef\u001b[39;00m \u001b[38;5;21mload_audio\u001b[39m():\n\u001b[1;32m      5\u001b[0m     \u001b[38;5;66;03m# Membaca file MP3\u001b[39;00m\n\u001b[0;32m----> 6\u001b[0m     audio_binary \u001b[38;5;241m=\u001b[39m \u001b[43mtf\u001b[49m\u001b[38;5;241;43m.\u001b[39;49m\u001b[43mio\u001b[49m\u001b[38;5;241;43m.\u001b[39;49m\u001b[43mread_file\u001b[49m\u001b[43m(\u001b[49m\u001b[38;5;124;43m\"\u001b[39;49m\u001b[38;5;124;43mDataset/clips/common_voice_id_39599471.mp3\u001b[39;49m\u001b[38;5;124;43m\"\u001b[39;49m\u001b[43m)\u001b[49m\n\u001b[1;32m      8\u001b[0m     \u001b[38;5;66;03m# Mendekode file MP3 menjadi tensor audio\u001b[39;00m\n\u001b[1;32m      9\u001b[0m     audio_tensor \u001b[38;5;241m=\u001b[39m tfio\u001b[38;5;241m.\u001b[39maudio\u001b[38;5;241m.\u001b[39mdecode_mp3(audio_binary)\n",
      "File \u001b[0;32m~/anaconda3/envs/py310/lib/python3.8/site-packages/tensorflow/python/ops/io_ops.py:133\u001b[0m, in \u001b[0;36mread_file\u001b[0;34m(filename, name)\u001b[0m\n\u001b[1;32m     96\u001b[0m \u001b[38;5;129m@tf_export\u001b[39m(\u001b[38;5;124m\"\u001b[39m\u001b[38;5;124mio.read_file\u001b[39m\u001b[38;5;124m\"\u001b[39m, v1\u001b[38;5;241m=\u001b[39m[\u001b[38;5;124m\"\u001b[39m\u001b[38;5;124mio.read_file\u001b[39m\u001b[38;5;124m\"\u001b[39m, \u001b[38;5;124m\"\u001b[39m\u001b[38;5;124mread_file\u001b[39m\u001b[38;5;124m\"\u001b[39m])\n\u001b[1;32m     97\u001b[0m \u001b[38;5;28;01mdef\u001b[39;00m \u001b[38;5;21mread_file\u001b[39m(filename, name\u001b[38;5;241m=\u001b[39m\u001b[38;5;28;01mNone\u001b[39;00m):\n\u001b[1;32m     98\u001b[0m \u001b[38;5;250m  \u001b[39m\u001b[38;5;124;03m\"\"\"Reads the contents of file.\u001b[39;00m\n\u001b[1;32m     99\u001b[0m \n\u001b[1;32m    100\u001b[0m \u001b[38;5;124;03m  This operation returns a tensor with the entire contents of the input\u001b[39;00m\n\u001b[0;32m   (...)\u001b[0m\n\u001b[1;32m    131\u001b[0m \u001b[38;5;124;03m    A tensor of dtype \"string\", with the file contents.\u001b[39;00m\n\u001b[1;32m    132\u001b[0m \u001b[38;5;124;03m  \"\"\"\u001b[39;00m\n\u001b[0;32m--> 133\u001b[0m   \u001b[38;5;28;01mreturn\u001b[39;00m \u001b[43mgen_io_ops\u001b[49m\u001b[38;5;241;43m.\u001b[39;49m\u001b[43mread_file\u001b[49m\u001b[43m(\u001b[49m\u001b[43mfilename\u001b[49m\u001b[43m,\u001b[49m\u001b[43m \u001b[49m\u001b[43mname\u001b[49m\u001b[43m)\u001b[49m\n",
      "File \u001b[0;32m~/anaconda3/envs/py310/lib/python3.8/site-packages/tensorflow/python/ops/gen_io_ops.py:582\u001b[0m, in \u001b[0;36mread_file\u001b[0;34m(filename, name)\u001b[0m\n\u001b[1;32m    580\u001b[0m   \u001b[38;5;28;01mpass\u001b[39;00m\n\u001b[1;32m    581\u001b[0m \u001b[38;5;28;01mtry\u001b[39;00m:\n\u001b[0;32m--> 582\u001b[0m   \u001b[38;5;28;01mreturn\u001b[39;00m \u001b[43mread_file_eager_fallback\u001b[49m\u001b[43m(\u001b[49m\n\u001b[1;32m    583\u001b[0m \u001b[43m      \u001b[49m\u001b[43mfilename\u001b[49m\u001b[43m,\u001b[49m\u001b[43m \u001b[49m\u001b[43mname\u001b[49m\u001b[38;5;241;43m=\u001b[39;49m\u001b[43mname\u001b[49m\u001b[43m,\u001b[49m\u001b[43m \u001b[49m\u001b[43mctx\u001b[49m\u001b[38;5;241;43m=\u001b[39;49m\u001b[43m_ctx\u001b[49m\u001b[43m)\u001b[49m\n\u001b[1;32m    584\u001b[0m \u001b[38;5;28;01mexcept\u001b[39;00m _core\u001b[38;5;241m.\u001b[39m_SymbolicException:\n\u001b[1;32m    585\u001b[0m   \u001b[38;5;28;01mpass\u001b[39;00m  \u001b[38;5;66;03m# Add nodes to the TensorFlow graph.\u001b[39;00m\n",
      "File \u001b[0;32m~/anaconda3/envs/py310/lib/python3.8/site-packages/tensorflow/python/ops/gen_io_ops.py:605\u001b[0m, in \u001b[0;36mread_file_eager_fallback\u001b[0;34m(filename, name, ctx)\u001b[0m\n\u001b[1;32m    603\u001b[0m _inputs_flat \u001b[38;5;241m=\u001b[39m [filename]\n\u001b[1;32m    604\u001b[0m _attrs \u001b[38;5;241m=\u001b[39m \u001b[38;5;28;01mNone\u001b[39;00m\n\u001b[0;32m--> 605\u001b[0m _result \u001b[38;5;241m=\u001b[39m \u001b[43m_execute\u001b[49m\u001b[38;5;241;43m.\u001b[39;49m\u001b[43mexecute\u001b[49m\u001b[43m(\u001b[49m\u001b[38;5;124;43mb\u001b[39;49m\u001b[38;5;124;43m\"\u001b[39;49m\u001b[38;5;124;43mReadFile\u001b[39;49m\u001b[38;5;124;43m\"\u001b[39;49m\u001b[43m,\u001b[49m\u001b[43m \u001b[49m\u001b[38;5;241;43m1\u001b[39;49m\u001b[43m,\u001b[49m\u001b[43m \u001b[49m\u001b[43minputs\u001b[49m\u001b[38;5;241;43m=\u001b[39;49m\u001b[43m_inputs_flat\u001b[49m\u001b[43m,\u001b[49m\n\u001b[1;32m    606\u001b[0m \u001b[43m                           \u001b[49m\u001b[43mattrs\u001b[49m\u001b[38;5;241;43m=\u001b[39;49m\u001b[43m_attrs\u001b[49m\u001b[43m,\u001b[49m\u001b[43m \u001b[49m\u001b[43mctx\u001b[49m\u001b[38;5;241;43m=\u001b[39;49m\u001b[43mctx\u001b[49m\u001b[43m,\u001b[49m\u001b[43m \u001b[49m\u001b[43mname\u001b[49m\u001b[38;5;241;43m=\u001b[39;49m\u001b[43mname\u001b[49m\u001b[43m)\u001b[49m\n\u001b[1;32m    607\u001b[0m \u001b[38;5;28;01mif\u001b[39;00m _execute\u001b[38;5;241m.\u001b[39mmust_record_gradient():\n\u001b[1;32m    608\u001b[0m   _execute\u001b[38;5;241m.\u001b[39mrecord_gradient(\n\u001b[1;32m    609\u001b[0m       \u001b[38;5;124m\"\u001b[39m\u001b[38;5;124mReadFile\u001b[39m\u001b[38;5;124m\"\u001b[39m, _inputs_flat, _attrs, _result)\n",
      "File \u001b[0;32m~/anaconda3/envs/py310/lib/python3.8/site-packages/tensorflow/python/eager/execute.py:53\u001b[0m, in \u001b[0;36mquick_execute\u001b[0;34m(op_name, num_outputs, inputs, attrs, ctx, name)\u001b[0m\n\u001b[1;32m     51\u001b[0m \u001b[38;5;28;01mtry\u001b[39;00m:\n\u001b[1;32m     52\u001b[0m   ctx\u001b[38;5;241m.\u001b[39mensure_initialized()\n\u001b[0;32m---> 53\u001b[0m   tensors \u001b[38;5;241m=\u001b[39m \u001b[43mpywrap_tfe\u001b[49m\u001b[38;5;241;43m.\u001b[39;49m\u001b[43mTFE_Py_Execute\u001b[49m\u001b[43m(\u001b[49m\u001b[43mctx\u001b[49m\u001b[38;5;241;43m.\u001b[39;49m\u001b[43m_handle\u001b[49m\u001b[43m,\u001b[49m\u001b[43m \u001b[49m\u001b[43mdevice_name\u001b[49m\u001b[43m,\u001b[49m\u001b[43m \u001b[49m\u001b[43mop_name\u001b[49m\u001b[43m,\u001b[49m\n\u001b[1;32m     54\u001b[0m \u001b[43m                                      \u001b[49m\u001b[43minputs\u001b[49m\u001b[43m,\u001b[49m\u001b[43m \u001b[49m\u001b[43mattrs\u001b[49m\u001b[43m,\u001b[49m\u001b[43m \u001b[49m\u001b[43mnum_outputs\u001b[49m\u001b[43m)\u001b[49m\n\u001b[1;32m     55\u001b[0m \u001b[38;5;28;01mexcept\u001b[39;00m core\u001b[38;5;241m.\u001b[39m_NotOkStatusException \u001b[38;5;28;01mas\u001b[39;00m e:\n\u001b[1;32m     56\u001b[0m   \u001b[38;5;28;01mif\u001b[39;00m name \u001b[38;5;129;01mis\u001b[39;00m \u001b[38;5;129;01mnot\u001b[39;00m \u001b[38;5;28;01mNone\u001b[39;00m:\n",
      "\u001b[0;31mNotFoundError\u001b[0m: {{function_node __wrapped__ReadFile_device_/job:localhost/replica:0/task:0/device:CPU:0}} Dataset/clips/common_voice_id_39599471.mp3; No such file or directory [Op:ReadFile]"
     ]
    }
   ],
   "source": [
    "# Path audio\n",
    "# audio_file = \"Dataset/clips/common_voice_id_39599471.mp3\"\n",
    "\n",
    "def load_audio():\n",
    "    # Membaca file MP3\n",
    "    audio_binary = tf.io.read_file(\"Dataset/clips/common_voice_id_39599471.mp3\")\n",
    "    \n",
    "    # Mendekode file MP3 menjadi tensor audio\n",
    "    audio_tensor = tfio.audio.decode_mp3(audio_binary)\n",
    "\n",
    "    return audio_tensor\n",
    "\n",
    "print(load_audio())"
   ]
  },
  {
   "cell_type": "code",
   "execution_count": 30,
   "id": "72bfe51d-7feb-4eb7-97f7-14b1bcb49439",
   "metadata": {},
   "outputs": [],
   "source": [
    "file_path = \"Dataset/clips/common_voice_id_39599471.mp3\"\n",
    "waveform, sample_rate = load_mp3(file_path)"
   ]
  },
  {
   "cell_type": "code",
   "execution_count": 31,
   "id": "fa197e04-fb39-4ffd-91d8-5432a096de8b",
   "metadata": {},
   "outputs": [],
   "source": [
    "# Fungsi untuk normalisasi waveform\n",
    "def normalize_waveform(waveform):\n",
    "    # Cari amplitudo maksimum\n",
    "    max_amplitude = tf.reduce_max(tf.abs(waveform))\n",
    "    \n",
    "    # Normalisasi waveform ke rentang [-1, 1]\n",
    "    normalized_waveform = waveform / max_amplitude\n",
    "    return normalized_waveform"
   ]
  },
  {
   "cell_type": "code",
   "execution_count": 32,
   "id": "d5d9f774-d482-41fd-96ce-22804295026b",
   "metadata": {},
   "outputs": [],
   "source": [
    "# menambahkan padding jika perlu\n",
    "def pad_waveform(waveform, frame_length, frame_step):\n",
    "    # Hitung jumlah padding yang diperlukan di dimensi waktu\n",
    "    waveform_length = tf.shape(waveform)[0]\n",
    "    padding_needed = frame_length - (waveform_length % frame_step)\n",
    "    \n",
    "    # Jika padding diperlukan, tambahkan padding di dimensi waktu\n",
    "    if padding_needed != 0:\n",
    "        padded_waveform = tf.pad(waveform, paddings=[[0, padding_needed]])\n",
    "    else:\n",
    "        padded_waveform = waveform\n",
    "    \n",
    "    return padded_waveform"
   ]
  },
  {
   "cell_type": "code",
   "execution_count": 33,
   "id": "223af14a-5681-4f7e-8ed1-95162ee2df7f",
   "metadata": {},
   "outputs": [
    {
     "name": "stdout",
     "output_type": "stream",
     "text": [
      "Sample rate: 16000\n",
      "Waveform shape sebelum di normalisasi: (47229, 1)\n",
      "Waveform shape setelah di normalisasi: (47229, 1)\n"
     ]
    }
   ],
   "source": [
    "# Normalisasi\n",
    "normalized_waveform = normalize_waveform(waveform)\n",
    "\n",
    "# Cetak informasi\n",
    "print(f\"Sample rate: {sample_rate}\")\n",
    "print(f\"Waveform shape sebelum di normalisasi: {waveform.shape}\")\n",
    "print(f\"Waveform shape setelah di normalisasi: {normalized_waveform.shape}\")"
   ]
  },
  {
   "cell_type": "code",
   "execution_count": 36,
   "id": "e9fee0d9-57d2-49c7-b9d1-db58f4139929",
   "metadata": {},
   "outputs": [
    {
     "name": "stdout",
     "output_type": "stream",
     "text": [
      "Spectrogram shape: (47229, 0, 129)\n"
     ]
    }
   ],
   "source": [
    "# spektrogram dari waveform\n",
    "def create_spectrogram(waveform, frame_length=256, frame_step=128, fft_length=256):\n",
    "    # Hitung STFT\n",
    "    stft = tf.signal.stft(\n",
    "        waveform,\n",
    "        frame_length=frame_length,\n",
    "        frame_step=frame_step,\n",
    "        fft_length=fft_length\n",
    "    )\n",
    "    \n",
    "    # Ambil magnitudo (hilangkan fase)\n",
    "    spectrogram = tf.abs(stft)\n",
    "    return spectrogram\n",
    "\n",
    "frame_length = 256  # Panjang frame untuk STFT\n",
    "frame_step = 128    # Langkah antar frame\n",
    "\n",
    "# spektrogram dari waveform yang sudah dinormalisasi\n",
    "spectrogram = create_spectrogram(normalized_waveform)\n",
    "\n",
    "print(f\"Spectrogram shape: {spectrogram.shape}\")"
   ]
  },
  {
   "cell_type": "code",
   "execution_count": null,
   "id": "173f3935-6253-4062-9951-915e276153fc",
   "metadata": {},
   "outputs": [],
   "source": []
  }
 ],
 "metadata": {
  "kernelspec": {
   "display_name": "Python 3 (ipykernel)",
   "language": "python",
   "name": "python3"
  },
  "language_info": {
   "codemirror_mode": {
    "name": "ipython",
    "version": 3
   },
   "file_extension": ".py",
   "mimetype": "text/x-python",
   "name": "python",
   "nbconvert_exporter": "python",
   "pygments_lexer": "ipython3",
   "version": "3.8.20"
  }
 },
 "nbformat": 4,
 "nbformat_minor": 5
}
