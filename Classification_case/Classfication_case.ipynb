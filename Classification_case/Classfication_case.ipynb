{
 "cells": [
  {
   "cell_type": "markdown",
   "metadata": {},
   "source": [
    "# Classification Emergency Case\n",
    "\n",
    "Kode ini digunakan untuk mengembangkan model klasifikasi teks untuk kasus darurat medis. Model ini menggunakan teknik deep learning dengan algoritma LSTM untuk menganalisis dan mengklasifikasikan teks berdasarkan kategori yang diberikan."
   ]
  },
  {
   "cell_type": "markdown",
   "metadata": {},
   "source": [
    "## 1. Import Package\n",
    "Pada bagian ini, kita mengimpor berbagai library yang diperlukan untuk menyelesaikan proyek:\n",
    "- Data Manipulation: pandas dan numpy untuk mengolah dan memanipulasi dataset.\n",
    "- Text Preprocessing: nltk untuk tokenisasi dan stopwords, serta Sastrawi untuk stemming teks Bahasa Indonesia.\n",
    "- Model Development: tensorflow untuk membangun dan melatih model deep learning.\n",
    "- Visualization: matplotlib, seaborn untuk membuat grafik performa model."
   ]
  },
  {
   "cell_type": "code",
   "execution_count": 1,
   "metadata": {},
   "outputs": [
    {
     "name": "stderr",
     "output_type": "stream",
     "text": [
      "2024-12-03 16:39:47.002122: I tensorflow/core/util/port.cc:153] oneDNN custom operations are on. You may see slightly different numerical results due to floating-point round-off errors from different computation orders. To turn them off, set the environment variable `TF_ENABLE_ONEDNN_OPTS=0`.\n",
      "2024-12-03 16:39:47.015402: E external/local_xla/xla/stream_executor/cuda/cuda_fft.cc:477] Unable to register cuFFT factory: Attempting to register factory for plugin cuFFT when one has already been registered\n",
      "WARNING: All log messages before absl::InitializeLog() is called are written to STDERR\n",
      "E0000 00:00:1733218787.032457 1024149 cuda_dnn.cc:8310] Unable to register cuDNN factory: Attempting to register factory for plugin cuDNN when one has already been registered\n",
      "E0000 00:00:1733218787.036830 1024149 cuda_blas.cc:1418] Unable to register cuBLAS factory: Attempting to register factory for plugin cuBLAS when one has already been registered\n",
      "2024-12-03 16:39:47.056507: I tensorflow/core/platform/cpu_feature_guard.cc:210] This TensorFlow binary is optimized to use available CPU instructions in performance-critical operations.\n",
      "To enable the following instructions: AVX2 AVX512F AVX512_VNNI AVX512_BF16 FMA, in other operations, rebuild TensorFlow with the appropriate compiler flags.\n"
     ]
    }
   ],
   "source": [
    "import pandas as pd\n",
    "import numpy as np\n",
    "import tensorflow as tf\n",
    "import matplotlib.pyplot as plt\n",
    "import nltk\n",
    "import os\n",
    "import re\n",
    "import pickle\n",
    "from nltk.tokenize import word_tokenize\n",
    "from nltk.corpus import stopwords\n",
    "from Sastrawi.Stemmer.StemmerFactory import StemmerFactory\n",
    "from sklearn.preprocessing import LabelEncoder\n",
    "from sklearn.model_selection import train_test_split\n",
    "from tensorflow.keras.models import Model\n",
    "from tensorflow.keras.preprocessing.text import Tokenizer\n",
    "from tensorflow.keras.preprocessing.sequence import pad_sequences\n",
    "from tensorflow.keras.layers import (\n",
    "  Embedding,Input,LSTM,Input,Conv2D,Softmax,Dropout,Dense,GRU,\n",
    "  MaxPooling2D,LayerNormalization,Reshape,BatchNormalization,Bidirectional)\n",
    "from tensorflow.keras.optimizers import Adam"
   ]
  },
  {
   "cell_type": "markdown",
   "metadata": {},
   "source": [
    "## 2. Preprocessing\n",
    "Bagian ini adalah langkah awal untuk mempersiapkan data sebelum digunakan dalam pelatihan model. Berikut langkah-langkahnya:\n"
   ]
  },
  {
   "cell_type": "markdown",
   "metadata": {},
   "source": [
    "### 2.1. Load Dataset\n"
   ]
  },
  {
   "cell_type": "code",
   "execution_count": 2,
   "metadata": {},
   "outputs": [
    {
     "name": "stdout",
     "output_type": "stream",
     "text": [
      "                                                Text Label\n",
      "0  ada kecelakaan besar di jalan tol banyak korba...  High\n",
      "1  orang ini pingsan dan tidak bernapas segera ki...  High\n",
      "2           ada anak kecil tenggelam dia tidak sadar  High\n",
      "3  kecelakaan sepeda motor dengan luka parah di k...  High\n",
      "4  seorang pria terjatuh dari gedung tinggi seger...  High\n"
     ]
    }
   ],
   "source": [
    "# Load Dataset\n",
    "data = pd.read_csv('Dataset/Clean_emergency_case.csv')\n",
    "print(data.head())"
   ]
  },
  {
   "cell_type": "markdown",
   "metadata": {},
   "source": [
    "### 2.2. Normalisasi Teks"
   ]
  },
  {
   "cell_type": "code",
   "execution_count": 3,
   "metadata": {},
   "outputs": [
    {
     "name": "stdout",
     "output_type": "stream",
     "text": [
      "                                                Text Label\n",
      "0  ada kecelakaan besar di jalan tol banyak korba...  High\n",
      "1  orang ini pingsan dan tidak bernapas segera ki...  High\n",
      "2           ada anak kecil tenggelam dia tidak sadar  High\n",
      "3  kecelakaan sepeda motor dengan luka parah di k...  High\n",
      "4  seorang pria terjatuh dari gedung tinggi seger...  High\n"
     ]
    }
   ],
   "source": [
    "# Mengubah teks menjadi huruf kecil\n",
    "data['Text'] = data['Text'].str.lower()\n",
    "\n",
    "# Menghapus tanda baca dan karakter non-alfabet\n",
    "data['Text'] = data['Text'].apply(lambda x: re.sub(r'[^\\w\\s]', '', x))\n",
    "\n",
    "print(data.head())"
   ]
  },
  {
   "cell_type": "markdown",
   "metadata": {},
   "source": [
    "### 2.3. Tokenization"
   ]
  },
  {
   "cell_type": "code",
   "execution_count": 4,
   "metadata": {},
   "outputs": [
    {
     "name": "stdout",
     "output_type": "stream",
     "text": [
      "                                                Text  \\\n",
      "0  ada kecelakaan besar di jalan tol banyak korba...   \n",
      "1  orang ini pingsan dan tidak bernapas segera ki...   \n",
      "2           ada anak kecil tenggelam dia tidak sadar   \n",
      "3  kecelakaan sepeda motor dengan luka parah di k...   \n",
      "4  seorang pria terjatuh dari gedung tinggi seger...   \n",
      "\n",
      "                                              tokens  \n",
      "0  [ada, kecelakaan, besar, di, jalan, tol, banya...  \n",
      "1  [orang, ini, pingsan, dan, tidak, bernapas, se...  \n",
      "2   [ada, anak, kecil, tenggelam, dia, tidak, sadar]  \n",
      "3  [kecelakaan, sepeda, motor, dengan, luka, para...  \n",
      "4  [seorang, pria, terjatuh, dari, gedung, tinggi...  \n"
     ]
    },
    {
     "name": "stderr",
     "output_type": "stream",
     "text": [
      "[nltk_data] Downloading package punkt_tab to /home/rafli/nltk_data...\n",
      "[nltk_data]   Package punkt_tab is already up-to-date!\n"
     ]
    }
   ],
   "source": [
    "nltk.download('punkt_tab')\n",
    "\n",
    "# Tokenization teks\n",
    "data['tokens'] = data['Text'].apply(word_tokenize)\n",
    "\n",
    "print(data[['Text', 'tokens']].head())"
   ]
  },
  {
   "cell_type": "markdown",
   "metadata": {},
   "source": [
    "### 2.4. Stop Words\n"
   ]
  },
  {
   "cell_type": "code",
   "execution_count": 5,
   "metadata": {},
   "outputs": [
    {
     "name": "stderr",
     "output_type": "stream",
     "text": [
      "[nltk_data] Downloading package stopwords to /home/rafli/nltk_data...\n"
     ]
    },
    {
     "name": "stdout",
     "output_type": "stream",
     "text": [
      "                                                Text  \\\n",
      "0  ada kecelakaan besar di jalan tol banyak korba...   \n",
      "1  orang ini pingsan dan tidak bernapas segera ki...   \n",
      "2           ada anak kecil tenggelam dia tidak sadar   \n",
      "3  kecelakaan sepeda motor dengan luka parah di k...   \n",
      "4  seorang pria terjatuh dari gedung tinggi seger...   \n",
      "\n",
      "                                              tokens  \n",
      "0   [kecelakaan, besar, jalan, tol, korban, terluka]  \n",
      "1  [orang, pingsan, tidak, bernapas, kirim, ambul...  \n",
      "2             [anak, kecil, tenggelam, tidak, sadar]  \n",
      "3   [kecelakaan, sepeda, motor, luka, parah, kepala]  \n",
      "4           [pria, terjatuh, gedung, kirim, bantuan]  \n"
     ]
    },
    {
     "name": "stderr",
     "output_type": "stream",
     "text": [
      "[nltk_data]   Package stopwords is already up-to-date!\n"
     ]
    }
   ],
   "source": [
    "nltk.download('stopwords')\n",
    "\n",
    "# Mengambil stopwords Bahasa Indonesia\n",
    "stop_words = set(stopwords.words('indonesian'))\n",
    "\n",
    "# Menghapus kata-kata tertentu dari daftar stopwords\n",
    "custom_stopwords = {\"tidak\", \"kecil\", \"besar\"}  # Kata-kata yang ingin dipertahankan\n",
    "stop_words = stop_words - custom_stopwords  # Menghapus kata-kata tersebut dari stopwords\n",
    "\n",
    "# Menghapus stopwords\n",
    "data['tokens'] = data['tokens'].apply(lambda tokens: [word for word in tokens if word not in stop_words])\n",
    "\n",
    "print(data[['Text', 'tokens']].head())\n"
   ]
  },
  {
   "cell_type": "markdown",
   "metadata": {},
   "source": [
    "### 2.5. Stemming"
   ]
  },
  {
   "cell_type": "code",
   "execution_count": 6,
   "metadata": {},
   "outputs": [
    {
     "name": "stdout",
     "output_type": "stream",
     "text": [
      "                                                 tokens\n",
      "0             [celaka, besar, jalan, tol, korban, luka]\n",
      "1       [orang, pingsan, tidak, napas, kirim, ambulans]\n",
      "2                [anak, kecil, tenggelam, tidak, sadar]\n",
      "3          [celaka, sepeda, motor, luka, parah, kepala]\n",
      "4                   [pria, jatuh, gedung, kirim, bantu]\n",
      "...                                                 ...\n",
      "1970                     [mual, makan, tidur, sebentar]\n",
      "1971                  [pusing, diri, duduk, minum, air]\n",
      "1972  [tolong, kaku, punggung, duduk, nggak, sakit, ...\n",
      "1973        [anak, alergi, kena, dingin, hidung, meler]\n",
      "1974         [tolong, pusing, ruang, duduk, minum, air]\n",
      "\n",
      "[1975 rows x 1 columns]\n"
     ]
    }
   ],
   "source": [
    "# Menginisialisasi stemmer\n",
    "factory = StemmerFactory()\n",
    "stemmer = factory.create_stemmer()\n",
    "\n",
    "# Melakukan stemming pada token\n",
    "data['tokens'] = data['tokens'].apply(lambda tokens: [stemmer.stem(word) for word in tokens])\n",
    "\n",
    "# Menampilkan hasil\n",
    "print(data[['tokens']]  )"
   ]
  },
  {
   "cell_type": "code",
   "execution_count": 7,
   "metadata": {},
   "outputs": [],
   "source": [
    "# Menentukan panjang maksimum urutan dan dimensi embedding\n",
    "MAX_SEQUENCE_LENGTH = 100\n",
    "EMBEDDING_DIM = 100\n",
    "VOCABULARY_SIZE = 10000\n"
   ]
  },
  {
   "cell_type": "code",
   "execution_count": 8,
   "metadata": {},
   "outputs": [],
   "source": [
    "# Membuat tokenizer dan menyesuaikan dengan data teks yang ada\n",
    "tokenizer = Tokenizer()\n",
    "tokenizer.fit_on_texts(data['tokens'])"
   ]
  },
  {
   "cell_type": "code",
   "execution_count": 9,
   "metadata": {},
   "outputs": [],
   "source": [
    "# Mengonversi teks yang telah diproses menjadi urutan indeks berdasarkan tokenizer\n",
    "sequences = tokenizer.texts_to_sequences(data['tokens'])"
   ]
  },
  {
   "cell_type": "code",
   "execution_count": 10,
   "metadata": {},
   "outputs": [
    {
     "name": "stdout",
     "output_type": "stream",
     "text": [
      "\n",
      "Padded Sequences Shape: (1975, 100)\n"
     ]
    }
   ],
   "source": [
    "# Melakukan padding pada urutan agar panjangnya sama\n",
    "X_padded = pad_sequences(sequences, padding='post', maxlen=MAX_SEQUENCE_LENGTH)\n",
    "print(\"\\nPadded Sequences Shape:\", X_padded.shape)"
   ]
  },
  {
   "cell_type": "code",
   "execution_count": 11,
   "metadata": {},
   "outputs": [
    {
     "name": "stdout",
     "output_type": "stream",
     "text": [
      "\n",
      "Encoded Labels: [0 0 0 0 0]\n"
     ]
    }
   ],
   "source": [
    "# Menggunakan LabelEncoder untuk mengubah label teks menjadi format numerik\n",
    "label_encoder = LabelEncoder()\n",
    "y = label_encoder.fit_transform(data['Label'])\n",
    "\n",
    "print(\"\\nEncoded Labels:\", y[:5])"
   ]
  },
  {
   "cell_type": "code",
   "execution_count": 12,
   "metadata": {},
   "outputs": [
    {
     "name": "stdout",
     "output_type": "stream",
     "text": [
      "\n",
      "Train and Test Shapes:\n",
      "X_train: (1580, 100)\n",
      "X_test: (395, 100)\n",
      "y_train: (1580,)\n",
      "y_test: (395,)\n"
     ]
    }
   ],
   "source": [
    "# Membagi dataset menjadi data latih (80%) dan data uji (20%)\n",
    "X_train, X_test, y_train, y_test = train_test_split(\n",
    "    X_padded, y, test_size=0.2, random_state=42, stratify=y\n",
    ")\n",
    "\n",
    "print(\"\\nTrain and Test Shapes:\")\n",
    "print(\"X_train:\", X_train.shape)\n",
    "print(\"X_test:\", X_test.shape)\n",
    "print(\"y_train:\", y_train.shape)\n",
    "print(\"y_test:\", y_test.shape)"
   ]
  },
  {
   "cell_type": "code",
   "execution_count": 13,
   "metadata": {},
   "outputs": [
    {
     "name": "stderr",
     "output_type": "stream",
     "text": [
      "/home/rafli/miniconda3/envs/instahelp/lib/python3.10/site-packages/keras/src/layers/core/embedding.py:90: UserWarning: Argument `input_length` is deprecated. Just remove it.\n",
      "  warnings.warn(\n",
      "I0000 00:00:1733218800.760633 1024149 gpu_device.cc:2022] Created device /job:localhost/replica:0/task:0/device:GPU:0 with 5563 MB memory:  -> device: 0, name: NVIDIA GeForce RTX 4060 Laptop GPU, pci bus id: 0000:01:00.0, compute capability: 8.9\n"
     ]
    },
    {
     "data": {
      "text/html": [
       "<pre style=\"white-space:pre;overflow-x:auto;line-height:normal;font-family:Menlo,'DejaVu Sans Mono',consolas,'Courier New',monospace\"><span style=\"font-weight: bold\">Model: \"sequential\"</span>\n",
       "</pre>\n"
      ],
      "text/plain": [
       "\u001b[1mModel: \"sequential\"\u001b[0m\n"
      ]
     },
     "metadata": {},
     "output_type": "display_data"
    },
    {
     "data": {
      "text/html": [
       "<pre style=\"white-space:pre;overflow-x:auto;line-height:normal;font-family:Menlo,'DejaVu Sans Mono',consolas,'Courier New',monospace\">┏━━━━━━━━━━━━━━━━━━━━━━━━━━━━━━━━━┳━━━━━━━━━━━━━━━━━━━━━━━━┳━━━━━━━━━━━━━━━┓\n",
       "┃<span style=\"font-weight: bold\"> Layer (type)                    </span>┃<span style=\"font-weight: bold\"> Output Shape           </span>┃<span style=\"font-weight: bold\">       Param # </span>┃\n",
       "┡━━━━━━━━━━━━━━━━━━━━━━━━━━━━━━━━━╇━━━━━━━━━━━━━━━━━━━━━━━━╇━━━━━━━━━━━━━━━┩\n",
       "│ embedding (<span style=\"color: #0087ff; text-decoration-color: #0087ff\">Embedding</span>)           │ ?                      │   <span style=\"color: #00af00; text-decoration-color: #00af00\">0</span> (unbuilt) │\n",
       "├─────────────────────────────────┼────────────────────────┼───────────────┤\n",
       "│ bidirectional (<span style=\"color: #0087ff; text-decoration-color: #0087ff\">Bidirectional</span>)   │ ?                      │   <span style=\"color: #00af00; text-decoration-color: #00af00\">0</span> (unbuilt) │\n",
       "├─────────────────────────────────┼────────────────────────┼───────────────┤\n",
       "│ bidirectional_1 (<span style=\"color: #0087ff; text-decoration-color: #0087ff\">Bidirectional</span>) │ ?                      │   <span style=\"color: #00af00; text-decoration-color: #00af00\">0</span> (unbuilt) │\n",
       "├─────────────────────────────────┼────────────────────────┼───────────────┤\n",
       "│ dense (<span style=\"color: #0087ff; text-decoration-color: #0087ff\">Dense</span>)                   │ ?                      │   <span style=\"color: #00af00; text-decoration-color: #00af00\">0</span> (unbuilt) │\n",
       "├─────────────────────────────────┼────────────────────────┼───────────────┤\n",
       "│ dropout (<span style=\"color: #0087ff; text-decoration-color: #0087ff\">Dropout</span>)               │ ?                      │             <span style=\"color: #00af00; text-decoration-color: #00af00\">0</span> │\n",
       "├─────────────────────────────────┼────────────────────────┼───────────────┤\n",
       "│ dense_1 (<span style=\"color: #0087ff; text-decoration-color: #0087ff\">Dense</span>)                 │ ?                      │   <span style=\"color: #00af00; text-decoration-color: #00af00\">0</span> (unbuilt) │\n",
       "└─────────────────────────────────┴────────────────────────┴───────────────┘\n",
       "</pre>\n"
      ],
      "text/plain": [
       "┏━━━━━━━━━━━━━━━━━━━━━━━━━━━━━━━━━┳━━━━━━━━━━━━━━━━━━━━━━━━┳━━━━━━━━━━━━━━━┓\n",
       "┃\u001b[1m \u001b[0m\u001b[1mLayer (type)                   \u001b[0m\u001b[1m \u001b[0m┃\u001b[1m \u001b[0m\u001b[1mOutput Shape          \u001b[0m\u001b[1m \u001b[0m┃\u001b[1m \u001b[0m\u001b[1m      Param #\u001b[0m\u001b[1m \u001b[0m┃\n",
       "┡━━━━━━━━━━━━━━━━━━━━━━━━━━━━━━━━━╇━━━━━━━━━━━━━━━━━━━━━━━━╇━━━━━━━━━━━━━━━┩\n",
       "│ embedding (\u001b[38;5;33mEmbedding\u001b[0m)           │ ?                      │   \u001b[38;5;34m0\u001b[0m (unbuilt) │\n",
       "├─────────────────────────────────┼────────────────────────┼───────────────┤\n",
       "│ bidirectional (\u001b[38;5;33mBidirectional\u001b[0m)   │ ?                      │   \u001b[38;5;34m0\u001b[0m (unbuilt) │\n",
       "├─────────────────────────────────┼────────────────────────┼───────────────┤\n",
       "│ bidirectional_1 (\u001b[38;5;33mBidirectional\u001b[0m) │ ?                      │   \u001b[38;5;34m0\u001b[0m (unbuilt) │\n",
       "├─────────────────────────────────┼────────────────────────┼───────────────┤\n",
       "│ dense (\u001b[38;5;33mDense\u001b[0m)                   │ ?                      │   \u001b[38;5;34m0\u001b[0m (unbuilt) │\n",
       "├─────────────────────────────────┼────────────────────────┼───────────────┤\n",
       "│ dropout (\u001b[38;5;33mDropout\u001b[0m)               │ ?                      │             \u001b[38;5;34m0\u001b[0m │\n",
       "├─────────────────────────────────┼────────────────────────┼───────────────┤\n",
       "│ dense_1 (\u001b[38;5;33mDense\u001b[0m)                 │ ?                      │   \u001b[38;5;34m0\u001b[0m (unbuilt) │\n",
       "└─────────────────────────────────┴────────────────────────┴───────────────┘\n"
      ]
     },
     "metadata": {},
     "output_type": "display_data"
    },
    {
     "data": {
      "text/html": [
       "<pre style=\"white-space:pre;overflow-x:auto;line-height:normal;font-family:Menlo,'DejaVu Sans Mono',consolas,'Courier New',monospace\"><span style=\"font-weight: bold\"> Total params: </span><span style=\"color: #00af00; text-decoration-color: #00af00\">0</span> (0.00 B)\n",
       "</pre>\n"
      ],
      "text/plain": [
       "\u001b[1m Total params: \u001b[0m\u001b[38;5;34m0\u001b[0m (0.00 B)\n"
      ]
     },
     "metadata": {},
     "output_type": "display_data"
    },
    {
     "data": {
      "text/html": [
       "<pre style=\"white-space:pre;overflow-x:auto;line-height:normal;font-family:Menlo,'DejaVu Sans Mono',consolas,'Courier New',monospace\"><span style=\"font-weight: bold\"> Trainable params: </span><span style=\"color: #00af00; text-decoration-color: #00af00\">0</span> (0.00 B)\n",
       "</pre>\n"
      ],
      "text/plain": [
       "\u001b[1m Trainable params: \u001b[0m\u001b[38;5;34m0\u001b[0m (0.00 B)\n"
      ]
     },
     "metadata": {},
     "output_type": "display_data"
    },
    {
     "data": {
      "text/html": [
       "<pre style=\"white-space:pre;overflow-x:auto;line-height:normal;font-family:Menlo,'DejaVu Sans Mono',consolas,'Courier New',monospace\"><span style=\"font-weight: bold\"> Non-trainable params: </span><span style=\"color: #00af00; text-decoration-color: #00af00\">0</span> (0.00 B)\n",
       "</pre>\n"
      ],
      "text/plain": [
       "\u001b[1m Non-trainable params: \u001b[0m\u001b[38;5;34m0\u001b[0m (0.00 B)\n"
      ]
     },
     "metadata": {},
     "output_type": "display_data"
    }
   ],
   "source": [
    "model = tf.keras.Sequential([\n",
    "    tf.keras.layers.Embedding(input_dim=VOCABULARY_SIZE, output_dim=EMBEDDING_DIM, input_length=MAX_SEQUENCE_LENGTH),\n",
    "    tf.keras.layers.Bidirectional(tf.keras.layers.LSTM(128, return_sequences=True)),\n",
    "    tf.keras.layers.Bidirectional(tf.keras.layers.LSTM(64)),\n",
    "    tf.keras.layers.Dense(64, activation='relu'),\n",
    "    tf.keras.layers.Dropout(0.5),\n",
    "    tf.keras.layers.Dense(len(label_encoder.classes_), activation='softmax')\n",
    "])\n",
    "\n",
    "model.compile(\n",
    "    loss='sparse_categorical_crossentropy',\n",
    "    optimizer='adam',\n",
    "    metrics=['accuracy']\n",
    ")\n",
    "\n",
    "model.summary()"
   ]
  },
  {
   "cell_type": "code",
   "execution_count": 14,
   "metadata": {},
   "outputs": [],
   "source": [
    "# Menyusun model dengan optimizer Adam dan loss sparse_categorical_crossentropy\n",
    "model.compile(\n",
    "    loss='sparse_categorical_crossentropy',\n",
    "    optimizer='adam',\n",
    "    metrics=['accuracy']\n",
    ")"
   ]
  },
  {
   "cell_type": "code",
   "execution_count": 15,
   "metadata": {},
   "outputs": [],
   "source": [
    "# Menggunakan callback EarlyStopping untuk menghentikan pelatihan jika model tidak membaik\n",
    "early_stop = tf.keras.callbacks.EarlyStopping(\n",
    "    monitor='val_loss', \n",
    "    patience=3, \n",
    "    restore_best_weights=True\n",
    ")"
   ]
  },
  {
   "cell_type": "code",
   "execution_count": 16,
   "metadata": {},
   "outputs": [
    {
     "name": "stdout",
     "output_type": "stream",
     "text": [
      "Epoch 1/100\n"
     ]
    },
    {
     "name": "stderr",
     "output_type": "stream",
     "text": [
      "I0000 00:00:1733218805.330279 1024261 cuda_dnn.cc:529] Loaded cuDNN version 90501\n"
     ]
    },
    {
     "name": "stdout",
     "output_type": "stream",
     "text": [
      "\u001b[1m3/3\u001b[0m \u001b[32m━━━━━━━━━━━━━━━━━━━━\u001b[0m\u001b[37m\u001b[0m \u001b[1m7s\u001b[0m 718ms/step - accuracy: 0.3411 - loss: 1.0982 - val_accuracy: 0.3892 - val_loss: 1.0927\n",
      "Epoch 2/100\n",
      "\u001b[1m3/3\u001b[0m \u001b[32m━━━━━━━━━━━━━━━━━━━━\u001b[0m\u001b[37m\u001b[0m \u001b[1m2s\u001b[0m 511ms/step - accuracy: 0.4101 - loss: 1.0890 - val_accuracy: 0.5253 - val_loss: 1.0760\n",
      "Epoch 3/100\n",
      "\u001b[1m3/3\u001b[0m \u001b[32m━━━━━━━━━━━━━━━━━━━━\u001b[0m\u001b[37m\u001b[0m \u001b[1m2s\u001b[0m 516ms/step - accuracy: 0.4870 - loss: 1.0712 - val_accuracy: 0.6139 - val_loss: 1.0423\n",
      "Epoch 4/100\n",
      "\u001b[1m3/3\u001b[0m \u001b[32m━━━━━━━━━━━━━━━━━━━━\u001b[0m\u001b[37m\u001b[0m \u001b[1m1s\u001b[0m 462ms/step - accuracy: 0.5577 - loss: 1.0257 - val_accuracy: 0.6108 - val_loss: 0.9571\n",
      "Epoch 5/100\n",
      "\u001b[1m3/3\u001b[0m \u001b[32m━━━━━━━━━━━━━━━━━━━━\u001b[0m\u001b[37m\u001b[0m \u001b[1m1s\u001b[0m 433ms/step - accuracy: 0.6442 - loss: 0.9246 - val_accuracy: 0.6171 - val_loss: 0.8309\n",
      "Epoch 6/100\n",
      "\u001b[1m3/3\u001b[0m \u001b[32m━━━━━━━━━━━━━━━━━━━━\u001b[0m\u001b[37m\u001b[0m \u001b[1m1s\u001b[0m 498ms/step - accuracy: 0.6697 - loss: 0.7787 - val_accuracy: 0.6741 - val_loss: 0.7219\n",
      "Epoch 7/100\n",
      "\u001b[1m3/3\u001b[0m \u001b[32m━━━━━━━━━━━━━━━━━━━━\u001b[0m\u001b[37m\u001b[0m \u001b[1m2s\u001b[0m 526ms/step - accuracy: 0.6741 - loss: 0.7140 - val_accuracy: 0.7025 - val_loss: 0.6429\n",
      "Epoch 8/100\n",
      "\u001b[1m3/3\u001b[0m \u001b[32m━━━━━━━━━━━━━━━━━━━━\u001b[0m\u001b[37m\u001b[0m \u001b[1m1s\u001b[0m 464ms/step - accuracy: 0.7271 - loss: 0.6189 - val_accuracy: 0.7563 - val_loss: 0.5898\n",
      "Epoch 9/100\n",
      "\u001b[1m3/3\u001b[0m \u001b[32m━━━━━━━━━━━━━━━━━━━━\u001b[0m\u001b[37m\u001b[0m \u001b[1m1s\u001b[0m 443ms/step - accuracy: 0.7446 - loss: 0.5550 - val_accuracy: 0.7342 - val_loss: 0.5664\n",
      "Epoch 10/100\n",
      "\u001b[1m3/3\u001b[0m \u001b[32m━━━━━━━━━━━━━━━━━━━━\u001b[0m\u001b[37m\u001b[0m \u001b[1m3s\u001b[0m 441ms/step - accuracy: 0.7716 - loss: 0.5251 - val_accuracy: 0.8101 - val_loss: 0.5096\n",
      "Epoch 11/100\n",
      "\u001b[1m3/3\u001b[0m \u001b[32m━━━━━━━━━━━━━━━━━━━━\u001b[0m\u001b[37m\u001b[0m \u001b[1m1s\u001b[0m 430ms/step - accuracy: 0.8039 - loss: 0.4878 - val_accuracy: 0.8070 - val_loss: 0.4839\n",
      "Epoch 12/100\n",
      "\u001b[1m3/3\u001b[0m \u001b[32m━━━━━━━━━━━━━━━━━━━━\u001b[0m\u001b[37m\u001b[0m \u001b[1m2s\u001b[0m 507ms/step - accuracy: 0.8298 - loss: 0.4302 - val_accuracy: 0.8323 - val_loss: 0.4445\n",
      "Epoch 13/100\n",
      "\u001b[1m3/3\u001b[0m \u001b[32m━━━━━━━━━━━━━━━━━━━━\u001b[0m\u001b[37m\u001b[0m \u001b[1m1s\u001b[0m 465ms/step - accuracy: 0.8675 - loss: 0.3886 - val_accuracy: 0.8291 - val_loss: 0.4610\n",
      "Epoch 14/100\n",
      "\u001b[1m3/3\u001b[0m \u001b[32m━━━━━━━━━━━━━━━━━━━━\u001b[0m\u001b[37m\u001b[0m \u001b[1m-1s\u001b[0m -993477us/step - accuracy: 0.8620 - loss: 0.3868 - val_accuracy: 0.8671 - val_loss: 0.4026\n",
      "Epoch 15/100\n",
      "\u001b[1m3/3\u001b[0m \u001b[32m━━━━━━━━━━━━━━━━━━━━\u001b[0m\u001b[37m\u001b[0m \u001b[1m1s\u001b[0m 426ms/step - accuracy: 0.8710 - loss: 0.3630 - val_accuracy: 0.8576 - val_loss: 0.4090\n",
      "Epoch 16/100\n",
      "\u001b[1m3/3\u001b[0m \u001b[32m━━━━━━━━━━━━━━━━━━━━\u001b[0m\u001b[37m\u001b[0m \u001b[1m1s\u001b[0m 441ms/step - accuracy: 0.8934 - loss: 0.3355 - val_accuracy: 0.8639 - val_loss: 0.3965\n",
      "Epoch 17/100\n",
      "\u001b[1m3/3\u001b[0m \u001b[32m━━━━━━━━━━━━━━━━━━━━\u001b[0m\u001b[37m\u001b[0m \u001b[1m1s\u001b[0m 442ms/step - accuracy: 0.8890 - loss: 0.3083 - val_accuracy: 0.8671 - val_loss: 0.3927\n",
      "Epoch 18/100\n",
      "\u001b[1m3/3\u001b[0m \u001b[32m━━━━━━━━━━━━━━━━━━━━\u001b[0m\u001b[37m\u001b[0m \u001b[1m1s\u001b[0m 447ms/step - accuracy: 0.9045 - loss: 0.2917 - val_accuracy: 0.8703 - val_loss: 0.3849\n",
      "Epoch 19/100\n",
      "\u001b[1m3/3\u001b[0m \u001b[32m━━━━━━━━━━━━━━━━━━━━\u001b[0m\u001b[37m\u001b[0m \u001b[1m1s\u001b[0m 426ms/step - accuracy: 0.9164 - loss: 0.2532 - val_accuracy: 0.8639 - val_loss: 0.3829\n",
      "Epoch 20/100\n",
      "\u001b[1m3/3\u001b[0m \u001b[32m━━━━━━━━━━━━━━━━━━━━\u001b[0m\u001b[37m\u001b[0m \u001b[1m1s\u001b[0m 424ms/step - accuracy: 0.9174 - loss: 0.2727 - val_accuracy: 0.8639 - val_loss: 0.3874\n",
      "Epoch 21/100\n",
      "\u001b[1m3/3\u001b[0m \u001b[32m━━━━━━━━━━━━━━━━━━━━\u001b[0m\u001b[37m\u001b[0m \u001b[1m1s\u001b[0m 427ms/step - accuracy: 0.9307 - loss: 0.2258 - val_accuracy: 0.8576 - val_loss: 0.3865\n",
      "Epoch 22/100\n",
      "\u001b[1m3/3\u001b[0m \u001b[32m━━━━━━━━━━━━━━━━━━━━\u001b[0m\u001b[37m\u001b[0m \u001b[1m1s\u001b[0m 442ms/step - accuracy: 0.9388 - loss: 0.2159 - val_accuracy: 0.8513 - val_loss: 0.4004\n"
     ]
    }
   ],
   "source": [
    "# Melatih model dengan data latih dan validasi\n",
    "history = model.fit(\n",
    "    X_train, y_train,\n",
    "    epochs=100,\n",
    "    batch_size=512,\n",
    "    validation_split=0.2,\n",
    "    callbacks=[early_stop]\n",
    ")"
   ]
  },
  {
   "cell_type": "code",
   "execution_count": 17,
   "metadata": {},
   "outputs": [
    {
     "name": "stdout",
     "output_type": "stream",
     "text": [
      "\u001b[1m13/13\u001b[0m \u001b[32m━━━━━━━━━━━━━━━━━━━━\u001b[0m\u001b[37m\u001b[0m \u001b[1m0s\u001b[0m 36ms/step - accuracy: 0.8745 - loss: 0.3994\n",
      "\n",
      "Test Loss: 0.38493937253952026\n",
      "Test Accuracy: 0.8759493827819824\n"
     ]
    }
   ],
   "source": [
    "# Mengevaluasi model pada data uji\n",
    "loss, accuracy = model.evaluate(X_test, y_test)\n",
    "print(\"\\nTest Loss:\", loss)\n",
    "print(\"Test Accuracy:\", accuracy)"
   ]
  },
  {
   "cell_type": "code",
   "execution_count": 18,
   "metadata": {},
   "outputs": [
    {
     "data": {
      "image/png": "[encoded data removed]",
      "text/plain": [
       "<Figure size 1200x400 with 2 Axes>"
      ]
     },
     "metadata": {},
     "output_type": "display_data"
    }
   ],
   "source": [
    "# Menampilkan grafik akurasi dan loss selama pelatihan\n",
    "plt.figure(figsize=(12, 4))\n",
    "\n",
    "plt.subplot(1, 2, 1)\n",
    "plt.plot(history.history['accuracy'], label='Train Accuracy')\n",
    "plt.plot(history.history['val_accuracy'], label='Validation Accuracy')\n",
    "plt.title('Model Accuracy')\n",
    "plt.ylabel('Accuracy')\n",
    "plt.xlabel('Epoch')\n",
    "plt.legend(loc='lower right')\n",
    "\n",
    "plt.subplot(1, 2, 2)\n",
    "plt.plot(history.history['loss'], label='Train Loss')\n",
    "plt.plot(history.history['val_loss'], label='Validation Loss')\n",
    "plt.title('Model Loss')\n",
    "plt.ylabel('Loss')\n",
    "plt.xlabel('Epoch')\n",
    "plt.legend(loc='upper right')\n",
    "\n",
    "plt.tight_layout()\n",
    "plt.show()"
   ]
  },
  {
   "cell_type": "code",
   "execution_count": 19,
   "metadata": {},
   "outputs": [
    {
     "name": "stderr",
     "output_type": "stream",
     "text": [
      "WARNING:absl:You are saving your model as an HDF5 file via `model.save()` or `keras.saving.save_model(model)`. This file format is considered legacy. We recommend using instead the native Keras format, e.g. `model.save('my_model.keras')` or `keras.saving.save_model(model, 'my_model.keras')`. \n"
     ]
    },
    {
     "name": "stdout",
     "output_type": "stream",
     "text": [
      "\n",
      "Model, Tokenizer, and Label Encoder have been saved.\n"
     ]
    }
   ],
   "source": [
    "# Menyimpan model, tokenizer, dan label encoder\n",
    "model.save('emergency_case_model.h5')\n",
    "\n",
    "with open('tokenizer.pickle', 'wb') as handle:\n",
    "    pickle.dump(tokenizer, handle, protocol=pickle.HIGHEST_PROTOCOL)\n",
    "    \n",
    "with open('label_encoder.pickle', 'wb') as handle:\n",
    "    pickle.dump(label_encoder, handle, protocol=pickle.HIGHEST_PROTOCOL)\n",
    "\n",
    "print(\"\\nModel, Tokenizer, and Label Encoder have been saved.\")"
   ]
  },
  {
   "cell_type": "code",
   "execution_count": 20,
   "metadata": {},
   "outputs": [
    {
     "name": "stdout",
     "output_type": "stream",
     "text": [
      "\u001b[1m62/62\u001b[0m \u001b[32m━━━━━━━━━━━━━━━━━━━━\u001b[0m\u001b[37m\u001b[0m \u001b[1m3s\u001b[0m 42ms/step\n",
      "Classification Report:\n",
      "              precision    recall  f1-score   support\n",
      "\n",
      "           0       0.95      0.98      0.97       642\n",
      "           1       0.89      0.92      0.90       695\n",
      "           2       0.89      0.83      0.86       638\n",
      "\n",
      "    accuracy                           0.91      1975\n",
      "   macro avg       0.91      0.91      0.91      1975\n",
      "weighted avg       0.91      0.91      0.91      1975\n",
      "\n",
      "\n",
      "Confusion Matrix:\n",
      "[[630   0  12]\n",
      " [  2 642  51]\n",
      " [ 29  82 527]]\n",
      "\n",
      "Accuracy: 0.9108860759493671\n",
      "Precision: 0.9104051548293837\n",
      "Recall: 0.9108860759493671\n",
      "F1-Score: 0.9100214422407554\n"
     ]
    }
   ],
   "source": [
    "# Importing the necessary metrics\n",
    "from sklearn.metrics import classification_report, confusion_matrix, accuracy_score, precision_score, recall_score, f1_score\n",
    "\n",
    "# Menggunakan model untuk memprediksi label pada dataset\n",
    "y_pred = model.predict(X_padded)\n",
    "y_pred = np.argmax(y_pred, axis=1)  # Mengambil indeks dengan probabilitas tertinggi\n",
    "\n",
    "# Menghitung metrik evaluasi\n",
    "accuracy = accuracy_score(y, y_pred)\n",
    "precision = precision_score(y, y_pred, average='weighted')\n",
    "recall = recall_score(y, y_pred, average='weighted')\n",
    "f1 = f1_score(y, y_pred, average='weighted')\n",
    "\n",
    "# Menampilkan classification report\n",
    "print(\"Classification Report:\")\n",
    "print(classification_report(y, y_pred))\n",
    "\n",
    "# Menampilkan confusion matrix\n",
    "print(\"\\nConfusion Matrix:\")\n",
    "print(confusion_matrix(y, y_pred))\n",
    "\n",
    "# Menampilkan metrik individual\n",
    "print(f\"\\nAccuracy: {accuracy}\")\n",
    "print(f\"Precision: {precision}\")\n",
    "print(f\"Recall: {recall}\")\n",
    "print(f\"F1-Score: {f1}\")\n"
   ]
  },
  {
   "cell_type": "code",
   "execution_count": 22,
   "metadata": {},
   "outputs": [],
   "source": [
    "def predict_emergency_case(text):\n",
    "    # Preprocessing teks\n",
    "    text = text.lower()  # Mengubah teks menjadi huruf kecil\n",
    "    text = re.sub(r'[^\\w\\s]', '', text)  # Menghapus tanda baca dan karakter non-alfabet\n",
    "    tokens = word_tokenize(text)  # Tokenisasi\n",
    "    tokens = [word for word in tokens if word not in stop_words]  # Menghapus stopwords\n",
    "    tokens = [stemmer.stem(word) for word in tokens]  # Stemming\n",
    "    \n",
    "    # Mengonversi token menjadi urutan indeks\n",
    "    sequence = tokenizer.texts_to_sequences([tokens])\n",
    "    \n",
    "    # Melakukan padding pada urutan\n",
    "    padded = pad_sequences(sequence, padding='post', maxlen=MAX_SEQUENCE_LENGTH)\n",
    "    \n",
    "    # Melakukan prediksi\n",
    "    prediction = model.predict(padded)\n",
    "    \n",
    "    # Mengambil indeks label dengan probabilitas tertinggi\n",
    "    predicted_index = np.argmax(prediction, axis=1)\n",
    "    \n",
    "    # Mengonversi indeks kembali ke label asli\n",
    "    predicted_label = label_encoder.inverse_transform(predicted_index)\n",
    "    \n",
    "    return predicted_label[0]\n"
   ]
  },
  {
   "cell_type": "code",
   "execution_count": 23,
   "metadata": {},
   "outputs": [
    {
     "name": "stdout",
     "output_type": "stream",
     "text": [
      "\u001b[1m1/1\u001b[0m \u001b[32m━━━━━━━━━━━━━━━━━━━━\u001b[0m\u001b[37m\u001b[0m \u001b[1m0s\u001b[0m 286ms/step\n",
      "Text: Segera kirimkan ambulans, ada kecelakaan serius di jalan.\n",
      "Predicted Label: High\n",
      "\n",
      "\u001b[1m1/1\u001b[0m \u001b[32m━━━━━━━━━━━━━━━━━━━━\u001b[0m\u001b[37m\u001b[0m \u001b[1m0s\u001b[0m 30ms/step\n",
      "Text: Saya merasa pusing dan ingin berkonsultasi dengan dokter.\n",
      "Predicted Label: Low\n",
      "\n",
      "\u001b[1m1/1\u001b[0m \u001b[32m━━━━━━━━━━━━━━━━━━━━\u001b[0m\u001b[37m\u001b[0m \u001b[1m0s\u001b[0m 34ms/step\n",
      "Text: Ingin tahu informasi jadwal ambulans terdekat.\n",
      "Predicted Label: Low\n",
      "\n"
     ]
    }
   ],
   "source": [
    "# Contoh teks untuk diuji\n",
    "sample_texts = [\n",
    "    \"Segera kirimkan ambulans, ada kecelakaan serius di jalan.\",\n",
    "    \"Saya merasa pusing dan ingin berkonsultasi dengan dokter.\",\n",
    "    \"Ingin tahu informasi jadwal ambulans terdekat.\"\n",
    "]\n",
    "\n",
    "# Melakukan prediksi pada setiap contoh teks\n",
    "for text in sample_texts:\n",
    "    label = predict_emergency_case(text)\n",
    "    print(f\"Text: {text}\\nPredicted Label: {label}\\n\")\n"
   ]
  },
  {
   "cell_type": "code",
   "execution_count": null,
   "metadata": {},
   "outputs": [],
   "source": []
  }
 ],
 "metadata": {
  "kernelspec": {
   "display_name": "instahelp",
   "language": "python",
   "name": "python3"
  },
  "language_info": {
   "codemirror_mode": {
    "name": "ipython",
    "version": 3
   },
   "file_extension": ".py",
   "mimetype": "text/x-python",
   "name": "python",
   "nbconvert_exporter": "python",
   "pygments_lexer": "ipython3",
   "version": "3.10.15"
  }
 },
 "nbformat": 4,
 "nbformat_minor": 4
}
